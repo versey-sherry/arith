{
 "cells": [
  {
   "cell_type": "code",
   "execution_count": 18,
   "metadata": {},
   "outputs": [],
   "source": [
    "class Lexer():\n",
    "    def __init__(self, text):\n",
    "        self.text = text\n",
    "        #Start from the first character\n",
    "        self.pos = 0\n",
    "        self.current_char = self.text[self.pos]\n",
    "\n",
    "    def error(self):\n",
    "        raise Exception(\"Invalid inputs\")\n",
    "\n",
    "    #advance to the next character\n",
    "    def next(self):\n",
    "        self.pos +=1\n",
    "        if self.pos > len(self.text) -1:\n",
    "            self.current_char = None\n",
    "        else:\n",
    "            self.current_char = self.text[self.pos]\n",
    "\n",
    "    #skipping white spaces\n",
    "    def skipwhitespace(self):\n",
    "        while self.current_char is not None and self.current_char.isspace():\n",
    "            self.next()\n",
    "\n",
    "    #multiple digits\n",
    "    def num(self):\n",
    "        result = \"\"\n",
    "        while self.current_char is not None and self.current_char.isdigit():\n",
    "            result = result + self.current_char\n",
    "            self.next()\n",
    "        print(result)\n",
    "        return int(result)\n",
    "\n"
   ]
  },
  {
   "cell_type": "code",
   "execution_count": 19,
   "metadata": {},
   "outputs": [
    {
     "name": "stdout",
     "output_type": "stream",
     "text": [
      "123\n"
     ]
    },
    {
     "data": {
      "text/plain": [
       "123"
      ]
     },
     "execution_count": 19,
     "metadata": {},
     "output_type": "execute_result"
    }
   ],
   "source": [
    "Lexer(\"123\").num()"
   ]
  },
  {
   "cell_type": "code",
   "execution_count": null,
   "metadata": {},
   "outputs": [],
   "source": []
  }
 ],
 "metadata": {
  "kernelspec": {
   "display_name": "Python [conda env:anaconda]",
   "language": "python",
   "name": "conda-env-anaconda-py"
  },
  "language_info": {
   "codemirror_mode": {
    "name": "ipython",
    "version": 3
   },
   "file_extension": ".py",
   "mimetype": "text/x-python",
   "name": "python",
   "nbconvert_exporter": "python",
   "pygments_lexer": "ipython3",
   "version": "3.6.10"
  }
 },
 "nbformat": 4,
 "nbformat_minor": 2
}
