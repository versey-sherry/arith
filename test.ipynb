{
 "cells": [
  {
   "cell_type": "code",
   "execution_count": 22,
   "metadata": {},
   "outputs": [],
   "source": [
    "class Token():\n",
    "    def __init__(self, type, value):\n",
    "        self.type = type\n",
    "        self.value = value\n",
    "    #String representation for debugging just in case\n",
    "    def __repr__(self):\n",
    "        return 'Token({type},{value})'.format(type = self.type, value = repr(self.value))"
   ]
  },
  {
   "cell_type": "code",
   "execution_count": 53,
   "metadata": {},
   "outputs": [],
   "source": [
    "class Lexer():\n",
    "    def __init__(self, text):\n",
    "        self.text = text\n",
    "        #Start from the first character\n",
    "        self.pos = 0\n",
    "        self.current_char = self.text[self.pos]\n",
    "\n",
    "    def error(self):\n",
    "        raise Exception(\"Invalid inputs\")\n",
    "\n",
    "    #advance to the next character\n",
    "    def next(self):\n",
    "        self.pos +=1\n",
    "        if self.pos > len(self.text) -1:\n",
    "            self.current_char = None\n",
    "        else:\n",
    "            self.current_char = self.text[self.pos]\n",
    "\n",
    "    #skipping white spaces\n",
    "    def skipwhitespace(self):\n",
    "        while self.current_char is not None and self.current_char.isspace():\n",
    "            self.next()\n",
    "\n",
    "    #multiple digits\n",
    "    def num(self):\n",
    "        result = \"\"\n",
    "        while self.current_char is not None and self.current_char.isdigit():\n",
    "            result = result + self.current_char\n",
    "            self.next()\n",
    "        return int(result)\n",
    "    \n",
    "    def tokenize(self):\n",
    "        if self.current_char is not None:\n",
    "\n",
    "            if self.current_char.isspace():\n",
    "                self.next()\n",
    "\n",
    "            if self.current_char.isdigit():\n",
    "                value = self.num()\n",
    "                return Token(\"INTEGER\", value)\n",
    "\n",
    "            if self.current_char == \"+\":\n",
    "                return Token(\"PLUS\", \"+\")\n"
   ]
  },
  {
   "cell_type": "code",
   "execution_count": 54,
   "metadata": {},
   "outputs": [],
   "source": [
    "class AST():\n",
    "    pass\n",
    "\n",
    "class PlusNode():\n",
    "#some value from term\n",
    "#some value form expression\n",
    "    def __init__(self, left, op, right):\n",
    "        self.left = left\n",
    "        self.right = right\n",
    "        self.op = \"PLUS\"\n",
    "\n",
    "class MinusNode():\n",
    "#some value from term\n",
    "#some value form expression\n",
    "    def __init__(self, left, op, right):\n",
    "        self.left = left\n",
    "        self.right = right\n",
    "        self.op = \"MINUS\"\n",
    "\n",
    "class MulNode():\n",
    "#some factor\n",
    "#some value from term\n",
    "    def __init__(self, left, op, right):\n",
    "        self.left = left\n",
    "        self.right = right\n",
    "        self.op = \"MUL\"\n",
    "\n",
    "#For positive negative integers, operations that only happen to the one token after it\n",
    "#A node for all the integers\n",
    "class IntNode():\n",
    "    def __init__(self, token):\n",
    "        self.token = token\n",
    "        self.value = self.token.value\n",
    "\n",
    "class Parser():\n",
    "    def __init__(self, lexer):\n",
    "        #initially the pos is at 0. self.current_token returns the token for the current char\n",
    "        #tokenize also move pos to the next one and record the next char for lexer.\n",
    "        self.lexer = lexer\n",
    "        self.current_token = self.lexer.tokenize()\n",
    "\n",
    "    def error():\n",
    "        raise error(\"Invalid syntax.\")\n"
   ]
  },
  {
   "cell_type": "code",
   "execution_count": 55,
   "metadata": {},
   "outputs": [
    {
     "name": "stdout",
     "output_type": "stream",
     "text": [
      "Token(INTEGER,123)\n"
     ]
    }
   ],
   "source": [
    "test_lex =Lexer(\"123\").tokenize()\n",
    "print(test_lex)"
   ]
  },
  {
   "cell_type": "code",
   "execution_count": 42,
   "metadata": {},
   "outputs": [
    {
     "name": "stdout",
     "output_type": "stream",
     "text": [
      "123\n"
     ]
    }
   ],
   "source": [
    "par = Parser(test_lex)"
   ]
  },
  {
   "cell_type": "code",
   "execution_count": 43,
   "metadata": {},
   "outputs": [
    {
     "name": "stdout",
     "output_type": "stream",
     "text": [
      "None\n"
     ]
    }
   ],
   "source": [
    "print(par.current_token)"
   ]
  },
  {
   "cell_type": "code",
   "execution_count": 80,
   "metadata": {},
   "outputs": [],
   "source": [
    "class intnode():\n",
    "    def __init__(self,a):\n",
    "        self.op = \"int\"\n",
    "        self.value =a"
   ]
  },
  {
   "cell_type": "code",
   "execution_count": 91,
   "metadata": {},
   "outputs": [],
   "source": [
    "class addnode():\n",
    "    def __init__(self,a,b):\n",
    "        self.op = \"add\"\n",
    "        self.left = a\n",
    "        self.right = b"
   ]
  },
  {
   "cell_type": "code",
   "execution_count": 86,
   "metadata": {},
   "outputs": [],
   "source": [
    "int1 = intnode(1)"
   ]
  },
  {
   "cell_type": "code",
   "execution_count": 87,
   "metadata": {},
   "outputs": [],
   "source": [
    "int2 = intnode(3)"
   ]
  },
  {
   "cell_type": "code",
   "execution_count": 93,
   "metadata": {},
   "outputs": [],
   "source": [
    "add1 = addnode(int1,int2)"
   ]
  },
  {
   "cell_type": "code",
   "execution_count": 94,
   "metadata": {},
   "outputs": [],
   "source": [
    "add2 = addnode(add1, int2)"
   ]
  },
  {
   "cell_type": "code",
   "execution_count": 96,
   "metadata": {},
   "outputs": [],
   "source": [
    "add3= addnode(int1, int2)"
   ]
  },
  {
   "cell_type": "code",
   "execution_count": 97,
   "metadata": {},
   "outputs": [],
   "source": [
    "add4 = addnode(add2, add3)"
   ]
  },
  {
   "cell_type": "code",
   "execution_count": 98,
   "metadata": {},
   "outputs": [],
   "source": [
    "def evaluate(node):\n",
    "    if node.op == \"int\":\n",
    "        return node.value\n",
    "    else:\n",
    "        return evaluate(node.left) + evaluate(node.right)"
   ]
  },
  {
   "cell_type": "code",
   "execution_count": 99,
   "metadata": {},
   "outputs": [
    {
     "data": {
      "text/plain": [
       "11"
      ]
     },
     "execution_count": 99,
     "metadata": {},
     "output_type": "execute_result"
    }
   ],
   "source": [
    "evaluate(add4)"
   ]
  },
  {
   "cell_type": "code",
   "execution_count": null,
   "metadata": {},
   "outputs": [],
   "source": []
  }
 ],
 "metadata": {
  "kernelspec": {
   "display_name": "Python [conda env:anaconda]",
   "language": "python",
   "name": "conda-env-anaconda-py"
  },
  "language_info": {
   "codemirror_mode": {
    "name": "ipython",
    "version": 3
   },
   "file_extension": ".py",
   "mimetype": "text/x-python",
   "name": "python",
   "nbconvert_exporter": "python",
   "pygments_lexer": "ipython3",
   "version": "3.6.10"
  }
 },
 "nbformat": 4,
 "nbformat_minor": 2
}
